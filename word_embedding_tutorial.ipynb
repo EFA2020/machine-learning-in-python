{
 "cells": [
  {
   "cell_type": "markdown",
   "metadata": {},
   "source": [
    "# Word Embedding Tutorial"
   ]
  },
  {
   "cell_type": "markdown",
   "metadata": {},
   "source": [
    "## What you can expect from this tutorial\n",
    "At the end of this notebook, you'll have an understanding of\n",
    "- what is a word vector, and why do I need one?\n",
    "- how to get word vectors\n",
    "    - distributional semantics: simple counts\n",
    "    - word embeddings: neural methods\n",
    "- how to use word embeddings\n",
    "    - finding similar terms\n",
    "    - combining concepts and searching for terms between them, \"more like me\"\n",
    "    - using negative examples to complete analogy questions (sometimes)"
   ]
  },
  {
   "cell_type": "markdown",
   "metadata": {},
   "source": [
    "## What's out-of-scope for this tutorial?\n",
    "You won't learn about\n",
    "- different methods for training neural word embeddings\n",
    "    - CBOW/Skip-gram\n",
    "    - Word2Vec\n",
    "    - How FastText works\n",
    "- Using word embeddings for downstream classification tasks\n",
    "- Measuring the goodness of your embedding model\n",
    "    - detecting unethical bias in your model\n",
    "    - comparing one word embedding model to another to determine which is better"
   ]
  },
  {
   "cell_type": "code",
   "execution_count": 1,
   "metadata": {},
   "outputs": [],
   "source": [
    "# let's start a dictionary so we can store definitions for words we don't know\n",
    "d = {}"
   ]
  },
  {
   "cell_type": "markdown",
   "metadata": {},
   "source": [
    "## Why do we need word vectors?\n",
    "Remember feature vectors? We have this list of numbers that represents an instance of data. This numerical representation allows us to make predictions using predictive modeling algorithms. \n",
    "\n",
    "Consider the feature vectors for cars.\n",
    "\n",
    "|   instances   | is_red      | has_4_wheel_drive | label |\n",
    "| ------------- | ----------- | ----------- | ---------|\n",
    "| instance_1    | 0           | 1 | truck |\n",
    "| instance_2    | 1           | 0 | car |\n",
    "\n",
    "A word vector is a way to represent the features of this word and (maybe) use in a downstream modeling task. Word vectors allow us to represent the meaning of a word numerically. With this vector represation of a word's semantics, we can easily give this information to predictive models.\n",
    "\n",
    "A word vector might look like this\n",
    "\n",
    "|   words   | appeared_near_yum      | appeared_near_red |\n",
    "| ------------- | ----------- | ----------- |\n",
    "| apple    | 1           | 1 |\n",
    "| applesauce    | 1           | 0 |\n",
    "| firetruck | 0 | 1 |\n",
    "\n",
    "This is in accordance with the hypothesis of [distributional semantics](https://en.wikipedia.org/wiki/Distributional_semantics#:~:targetText=Distributional%20semantics%20is%20a%20research,large%20samples%20of%20language%20data.): _linguistic items with similar distributions have similar meanings_\n",
    "\n",
    "A _word vector_ uses the distributional hypothesis. Each word vector represents a word with a very high-dimensional sparse vector, where each dimension reflects a context in which the word occurred in the corpus. For example, a context could be another word that appeared in proximity.\n",
    "\n",
    "A _word embedding_ represents a word with a low-dimensional vector (e.g. 100 dimensions). The dimensions are usually latent, and often obtained using the information as in the distributional semantics approach (e.g. LSA, word2vec). ([source](https://www.quora.com/Whats-the-difference-between-word-vectors-word-representations-and-vector-embeddings))\n",
    "\n",
    "Word embeddings are often used as a feature extraction technique. But the embeddings themselves are useful too!"
   ]
  },
  {
   "cell_type": "code",
   "execution_count": 2,
   "metadata": {},
   "outputs": [],
   "source": [
    "# update the definition dictionary with new terms \n",
    "# distributional hypothesis, distrubtional semantics, word vector, word embedding\n",
    "d['distributional hypothesis'] = \"linguistic items with similar \\\n",
    "                                distributions have similar meanings\"\n",
    "d['distributional semantics'] = \"linguistic theory that relies on \\\n",
    "                                dist. hypothesis\"\n",
    "d['word vector'] = \"high dimensional sparse vector that \\\n",
    "                    represents a word. \\\n",
    "                    Dimensions have real-world meaning, and \\\n",
    "                    are equal to the vocab length.\"\n",
    "d['word embedding'] = \"a low dimensional vector that represents \\\n",
    "                        a word. Dimensions are abstract\""
   ]
  },
  {
   "cell_type": "code",
   "execution_count": 3,
   "metadata": {},
   "outputs": [],
   "source": [
    "# you may want these imports for the next coding section\n",
    "from collections import defaultdict\n",
    "import numpy as np\n",
    "import os"
   ]
  },
  {
   "cell_type": "code",
   "execution_count": 4,
   "metadata": {},
   "outputs": [
    {
     "name": "stdout",
     "output_type": "stream",
     "text": [
      "{1, 2, 3}\n"
     ]
    }
   ],
   "source": [
    "s = set()\n",
    "s.update([1,2,3])\n",
    "print(s)"
   ]
  },
  {
   "cell_type": "code",
   "execution_count": 15,
   "metadata": {},
   "outputs": [],
   "source": [
    "# implement this simple way to make a word vector using a corpus\n",
    "'''\n",
    "----------------------------------------------\n",
    "Objective: make word vectors using context\n",
    "----------------------------------------------\n",
    "create a function that takes a file of sentences and returns\n",
    "a dictonary mapping each word in the corpus to its vector\n",
    "```\n",
    ">>> vectors = make_simple_word_vectors(filename)\n",
    ">>> vectors['dog']\n",
    "np.array([0., 0., 0., 0., 0., 0., 2., 0., 0., 0., \n",
    "         0., 0., 0., 1., 1., 0., 4., 0., 0., 0.])\n",
    "```\n",
    "To make sure everyone has the same columns, use a helper function,\n",
    "`make_vocab(filename)` which returns a map of the vocab item to\n",
    "the index\n",
    "of the column it corresponds to. Sort the vocab so that \n",
    "the index of 'a' is 0\n",
    "```\n",
    ">>> vocab = make_vocab(filename)\n",
    ">>> vocab['a']\n",
    "0\n",
    ">>> vocab['dog']\n",
    "9\n",
    "```\n",
    "You're welcome to use other helper methods.\n",
    "\n",
    "For your corpus, use the file: data/10_sentences.txt\n",
    "'''\n",
    "\n",
    "\n",
    "\n",
    "def make_vocab(filename):\n",
    "    \"\"\"\n",
    "    :param filename: the location fo the file with the word data to build vectors from\n",
    "    :return: dictionary mapping each vocab item to it's index\n",
    "    \"\"\"\n",
    "    vocab = set()\n",
    "    with open(filename, 'r') as f:\n",
    "        for line in f:\n",
    "            words = line.lower().split()\n",
    "            vocab.update(words)\n",
    "    \n",
    "    sorted_vocab = sorted(vocab)\n",
    "    dictionary = {}\n",
    "    for i, word in enumerate(sorted_vocab):\n",
    "        dictionary[word] = i\n",
    "    return dictionary\n",
    "            \n",
    "\n",
    "def make_simple_word_vectors(filename, window_size=2):\n",
    "    \"\"\"\n",
    "    :param filename: the location of the file with word data to build vectors from\n",
    "                     the file should be formatted with each sentence on a line\n",
    "    :param window_size: how far to the left and right of a word to look for context\n",
    "                        for window_size=2, we look 2 words to the left, and 2 words right\n",
    "    :return: dictionary mapping a word to its vector\n",
    "             the columns in the vector should be ordered alphabetically\n",
    "    \"\"\"\n",
    "    vocab = make_vocab(filename)\n",
    "    num_words = len(vocab)\n",
    "    \n",
    "    vectors = defaultdict(lambda: np.zeros(num_words))\n",
    "    with open(filename, 'r') as f:\n",
    "        for line in f:\n",
    "            words = line.lower().split()\n",
    "            for i, word in enumerate(words):\n",
    "                before_index = max(i - window_size, 0)\n",
    "                after_index = min(i + window_size, len(words))\n",
    "                \n",
    "                for x in range(before_index, after_index):\n",
    "                    if x == i:\n",
    "                        continue\n",
    "                    index = vocab[words[x]]\n",
    "                    vectors[word][index] += 1\n",
    "                    \n",
    "    return vectors\n",
    "            \n",
    "\n",
    "# always debug with a small file first\n",
    "small_file = os.path.join('data', '10_sentences.txt')\n",
    "vocab = make_vocab(small_file)\n",
    "assert(len(vocab) == 20)\n",
    "\n",
    "word_to_vector_map = make_simple_word_vectors(small_file)\n",
    "word_to_vector_map['cat']\n",
    "assert(np.array_equal(word_to_vector_map['dog'],\n",
    "                      np.array([0., 0., 0., 0., 0., 0., 2., 0., 0., 0., \n",
    "                                0., 0., 0., 1., 1., 0., 4., 0., 0., 0.])))"
   ]
  },
  {
   "cell_type": "markdown",
   "metadata": {},
   "source": [
    "## We've incorporated a word's context into the feature vector\n",
    "> _\"You shall know a word by the company it keeps.\" - John Rupert Firth_\n",
    "\n",
    "We need the word vector to capture the similarity between words. From linguistics, a simple approach is to say that words that fall in similar contexts have similar meanings. The word vectors we've created capture this notion of contextually similar terms. "
   ]
  },
  {
   "cell_type": "markdown",
   "metadata": {},
   "source": [
    "## Pros and Cons\n",
    "\n",
    "Pros\n",
    " - captures the context of words\n",
    " \n",
    "Cons\n",
    " - [homographs](https://en.wikipedia.org/wiki/Homograph) have the same vector\n",
    " - [sparse vectors](https://en.wikipedia.org/wiki/Sparse_matrix) are expensive\n",
    "     - could do a dimensionality reduction technique like [SVD](https://en.wikipedia.org/wiki/Singular_value_decomposition)\n",
    "     \n",
    "In practice, the sparsity of the vectors on large corpora make using them impossible. \n",
    "(That's why we only used 10 sentences.)"
   ]
  },
  {
   "cell_type": "code",
   "execution_count": 16,
   "metadata": {},
   "outputs": [],
   "source": [
    "# update dictionary of new terms\n",
    "# homograph, sparse vector\n",
    "# don't worry about SVD - not important for what we're doing\n",
    "d['homograph'] = \"words that are spelled the same but have different \\\n",
    "                     meaning\"\n",
    "d['sparse vector'] = \"too many 0s\"\n"
   ]
  },
  {
   "cell_type": "markdown",
   "metadata": {},
   "source": [
    "## Neural Word Embeddings\n",
    "In practice, the count method can be improved upon, both computatationally and theoretically.\n",
    "\n",
    "Instead of counting up words near other words, let's use a neural network to get word embeddings."
   ]
  },
  {
   "cell_type": "markdown",
   "metadata": {},
   "source": [
    "_But... don't we need labeled data?_"
   ]
  },
  {
   "cell_type": "markdown",
   "metadata": {},
   "source": [
    "This is a form of [semi-supervised learning](https://en.wikipedia.org/wiki/Semi-supervised_learning#:~:targetText=Semi%2Dsupervised%20learning%20is%20a,large%20amount%20of%20unlabeled%20data.), which makes use of unlabeled data for training."
   ]
  },
  {
   "cell_type": "code",
   "execution_count": 17,
   "metadata": {},
   "outputs": [],
   "source": [
    "# update dictionary of new terms\n",
    "# semi-supervised learning\n",
    "d['semi-supervised learning'] = \"collection of ML algorithms \\\n",
    "                                 that use data that 'labels itself' \\\n",
    "                                 or unlabeled data\""
   ]
  },
  {
   "cell_type": "markdown",
   "metadata": {},
   "source": [
    "_So... what are we predicting then?_"
   ]
  },
  {
   "cell_type": "markdown",
   "metadata": {},
   "source": [
    "Let's hide one of the words in a data instance.\n",
    "\n",
    "> I need to feed my ____ today\n",
    "\n",
    "Humans have no problem knowing what kinds of words might fill this blank, and knowing words that do _not_ fit in this blank. Let's train a neural network to predict this missing word given the context. This method is called CBOW, and we'll go into more depth in day 2. \n",
    "\n",
    "![CBOW](figures/word2vec-cbow.png)"
   ]
  },
  {
   "cell_type": "markdown",
   "metadata": {},
   "source": [
    "_Okay, great, we have this model that fills in the blanks. How does that get us word vectors?_"
   ]
  },
  {
   "cell_type": "markdown",
   "metadata": {},
   "source": [
    "We use the Weight matrix W. Each row in this weight matrix corresponds to a word in the vocab from the corpus a model was trained on.\n",
    "\n",
    "![weight_matrix](figures/weight-matrix.png)"
   ]
  },
  {
   "cell_type": "code",
   "execution_count": 18,
   "metadata": {},
   "outputs": [
    {
     "name": "stdout",
     "output_type": "stream",
     "text": [
      "hello_embedding = [-3.2  -0.89  0.89  0.19]\n"
     ]
    }
   ],
   "source": [
    "# say we have a weight matrix W and a one-hot encoding for \"hello\"\n",
    "W = np.array([[.47, .56, .98, -.23],\n",
    "              [-.21, -.79, -.99, 1.2],\n",
    "              [-3.2, -.09, .09, .19],\n",
    "              [-3.2, -.89, .89, .19],\n",
    "             ])\n",
    "hello = np.array([0, 0, 0, 1])\n",
    "# QUIZ: how many words are in the vocab?\n",
    "# to get the word embedding for hello, we need to multiply\n",
    "hello_embedding = np.matmul(hello, W)\n",
    "print(f\"hello_embedding = {hello_embedding}\")\n"
   ]
  },
  {
   "cell_type": "markdown",
   "metadata": {},
   "source": [
    "Let's implement a neural word embedding model using [FastText](https://arxiv.org/pdf/1607.04606.pdf). \n",
    "\n",
    "But first, we need to implement something to preprocess the data more efficiently. Holding all the data in memory at once may lead to a memory error. Instead we want to stream the data, only looking at one line in the file at a time.\n",
    "\n",
    "### Iterators and Generators in Python\n",
    "Python cares more about how objects behave rather than what they are. \n",
    "\n",
    "For instance, you can iterate through a list, and you can iterate through a dictionary's keys and values. These objects are _iterable_. They have a class method `__iter__()` and can be called like `for x in iterable:`. \n",
    "\n",
    "![Generators and Iterators](figures/iterators.png)\n",
    "\n",
    "[Reference](https://nvie.com/posts/iterators-vs-generators/)\n",
    "\n",
    "Generators are iterators, but instead of holding every line in memory, they compute it on the fly. They still have an `__iter__()` class method and word in `for x in generator:` calls, but they are much less memory intensive. \n",
    "\n",
    "Generators make use of the `yield` keyword, which then returns to the outer call of iteration with only that line. When the iterable needs to call the next item, it returns to the line immediately after the yield and continues. \n",
    "\n",
    "If a `return` statement is present in a generator function, then a `StopIteration` is raised, and the iteration is halted. "
   ]
  },
  {
   "cell_type": "code",
   "execution_count": 19,
   "metadata": {},
   "outputs": [
    {
     "name": "stdout",
     "output_type": "stream",
     "text": [
      "x=1\n",
      "x=2\n"
     ]
    }
   ],
   "source": [
    "# generator examples\n",
    "\n",
    "def my_generator():\n",
    "    yield 1\n",
    "    yield 2\n",
    "    \n",
    "for x in my_generator():\n",
    "    print(f\"x={x}\")"
   ]
  },
  {
   "cell_type": "code",
   "execution_count": 20,
   "metadata": {},
   "outputs": [
    {
     "name": "stdout",
     "output_type": "stream",
     "text": [
      "x=1\n",
      "x=2\n",
      "done\n"
     ]
    }
   ],
   "source": [
    "nums = my_generator()\n",
    "\n",
    "for x in nums:\n",
    "    print(f\"x={x}\")\n",
    "    \n",
    "for x in nums:\n",
    "    print(f\"x={x}\")\n",
    "    \n",
    "print(\"done\")"
   ]
  },
  {
   "cell_type": "markdown",
   "metadata": {},
   "source": [
    "#### Quiz: Why didn't it go through twice?\n",
    "\n",
    "For this reason, we'll create a class that has an `__iter__()` method that we'll override. This way, every time we call `for sent in sentences:`, we'll have data."
   ]
  },
  {
   "cell_type": "code",
   "execution_count": 23,
   "metadata": {},
   "outputs": [
    {
     "name": "stdout",
     "output_type": "stream",
     "text": [
      "['what', 'd’you', 'expect', 'they’re', 'savages', 'one', 'lot', 'steals', 'a', 'goat', 'from', 'another', 'lot', 'and', 'before', 'you', 'know', 'it', 'they’re', 'ripping', 'each', 'other', 'to', 'pieces']\n",
      "['i’ve', 'never', 'seen', 'wildlings', 'do', 'a', 'thing', 'like', 'this', 'i’ve', 'never', 'seen', 'a', 'thing', 'like', 'this', 'not', 'ever', 'in', 'my', 'life']\n",
      "['close', 'as', 'any', 'man', 'would']\n",
      "['do', 'the', 'dead', 'frighten', 'you']\n",
      "['our', 'orders', 'were', 'to', 'track', 'the', 'wildlings', 'we', 'tracked', 'them', 'they', 'won’t', 'trouble', 'us', 'no', 'more']\n"
     ]
    }
   ],
   "source": [
    "# See Day 2's tutorial for more algorithms to train word embeddings\n",
    "# for more on different training algorithms\n",
    "\n",
    "'''\n",
    "-------------------------------------------------------\n",
    "Objective: create a generator for better performance\n",
    "-------------------------------------------------------\n",
    "first, we need to preprocess the data. \n",
    "\n",
    "The input to FastText is an iterable of sentences \n",
    "where a sentence is formatted as: \n",
    "`['this', 'is', 'a', 'sample', 'sentence']`\n",
    "\n",
    "So you could use a list of sentences \n",
    "```\n",
    "sentences = [\n",
    "    ['this', 'is', 'a', 'sample', 'sentence'],\n",
    "    ['this', 'is', 'another', 'sample', 'sentence'],\n",
    "]\n",
    "```\n",
    "but holding all of the corpus's sentences in memory at once is expensive.\n",
    "You might hit a memory error.\n",
    "\n",
    "Instead, let's use a generator that yields data on the fly.\n",
    "\n",
    "Create a class `Sentences` that can be iterated through to train a model.\n",
    "Make sure your object yields preprocessed data. \n",
    "That might mean all lowercase, no punctuation, but you can make your own choices\n",
    "with what you think will work best.\n",
    "\n",
    "```\n",
    ">>> corpus = os.path.join('data', 'got_scripts_breakdown.csv')\n",
    ">>> sentences = Sentences(filename=corpus,\n",
    "                          delim=';',\n",
    "                          encoding='utf-8-sig',\n",
    "                          limit=5,\n",
    "                          )\n",
    ">>> for sent in sentences:\n",
    "        print(sent)\n",
    "['what', 'd’you', 'expect', 'they’re', 'savages', 'one', 'lot', 'steals', 'a', 'goat', \n",
    " 'from', 'another', 'lot', 'and', 'before', 'you', 'know', 'it', 'they’re', 'ripping', \n",
    " 'each', 'other', 'to', 'pieces']\n",
    "['i’ve', 'never', 'seen', 'wildlings', 'do', 'a', 'thing', 'like', 'this', 'i’ve', \n",
    " 'never', 'seen', 'a', 'thing', 'like', 'this', 'not', 'ever', 'in', 'my', 'life']\n",
    "['how', 'close', 'did', 'you', 'get']\n",
    "['close', 'as', 'any', 'man', 'would']\n",
    "['we', 'should', 'head', 'back', 'to', 'the', 'wall']\n",
    "```\n",
    "'''\n",
    "\n",
    "import string\n",
    "\n",
    "\n",
    "class Sentences:\n",
    "    def __init__(self, filename, delim, encoding, limit=float('inf')):\n",
    "        self.filename = filename\n",
    "        self.delim = delim\n",
    "        self.encoding = encoding\n",
    "        self.limit = limit\n",
    "        \n",
    "    def preprocess(self, line, sent_index):\n",
    "        columns = line.split(self.delim)\n",
    "        # need to extract the right column for sentence\n",
    "        sentence = columns[sent_index].lower()\n",
    "        words = sentence.split()\n",
    "        words = [word.translate(str.maketrans('', '', string.punctuation)) \n",
    "                 for word in words]\n",
    "        return words\n",
    "        \n",
    "    def __iter__(self):\n",
    "        \n",
    "        with open(self.filename, 'r', encoding=self.encoding) as f:\n",
    "            # header we need to skip\n",
    "            header = next(f)\n",
    "            cols = header.split(self.delim)\n",
    "            sent_index = cols.index(\"Sentence\")\n",
    "            \n",
    "            for i, line in enumerate(f):\n",
    "                if i >= self.limit:\n",
    "                    return\n",
    "                yield self.preprocess(line, sent_index)\n",
    "                \n",
    "\n",
    "got_dialogue_file = os.path.join('data', 'got_scripts_breakdown.csv')\n",
    "sents = Sentences(filename=got_dialogue_file, \n",
    "                  delim=';', \n",
    "                  encoding='utf-8-sig',\n",
    "                  limit=5)\n",
    "for sent in sents:\n",
    "    print(sent)"
   ]
  },
  {
   "cell_type": "markdown",
   "metadata": {},
   "source": [
    "Great, our data is preprocessed, and now we're ready to train a model.\n",
    "Check out [gensim's documentation](https://radimrehurek.com/gensim/models/fasttext.html) too for more information on the hyperparameters you can tune while training. "
   ]
  },
  {
   "cell_type": "code",
   "execution_count": 24,
   "metadata": {},
   "outputs": [],
   "source": [
    "'''\n",
    "-------------------------------------------------\n",
    "objective: train a FastText word embedding model\n",
    "-------------------------------------------------\n",
    "use gensim to train a model. Follow the documentation for an example\n",
    "'''\n",
    "\n",
    "from gensim.models import FastText\n",
    "\n",
    "sentences = Sentences(got_dialogue_file,\n",
    "                     delim=';',\n",
    "                     encoding='utf-8-sig',\n",
    "                     )\n",
    "\n",
    "model = FastText(size=100,\n",
    "                 window=8,\n",
    "                 min_count=4,\n",
    "                )\n",
    "model.build_vocab(sentences)\n",
    "model.train(sentences=sentences,\n",
    "            total_examples=model.corpus_count,\n",
    "            epochs=100,\n",
    "           )\n"
   ]
  },
  {
   "cell_type": "markdown",
   "metadata": {},
   "source": [
    "## What's happening when we train?\n",
    "\n",
    "We then iterate through the data, to build the vocabulary. This determines which words are frequent enough to build vectors for, which words will be included in the model. \n",
    "\n",
    "At the start of training the model, the weights for the word embeddings are randomly initialized. Then the model iterates through the data, making predictions. \n",
    "\n",
    "![Prediction/Inference Step](figures/nn-inference.gif)\n",
    "\n",
    "Then we evaluate how far off we were using the cost function.\n",
    "![Calculating the loss](figures/nn-cost.gif)\n",
    "\n",
    "After training completes, we take the weight matrix. Each row corresponds to a word in our vocabulary. These vectors live in 300 dimensional space!"
   ]
  },
  {
   "cell_type": "code",
   "execution_count": 25,
   "metadata": {},
   "outputs": [
    {
     "data": {
      "text/plain": [
       "array([ 0.3188678 ,  0.05718999, -1.044547  ,  3.3272266 ,  1.8486806 ,\n",
       "        0.5851722 ,  1.1145802 ,  0.11994658, -0.18631762, -1.910654  ,\n",
       "        2.3241189 ,  3.1198995 , -0.46314496,  1.4581035 , -3.0705943 ,\n",
       "       -0.96227664, -3.7143714 , -1.5658245 , -2.433947  ,  1.5098128 ,\n",
       "        0.2210197 , -1.0235714 , -1.3790044 , -1.0040249 , -0.5577143 ,\n",
       "        0.570086  ,  0.08502717, -0.42379335, -0.6688949 , -1.1071067 ,\n",
       "       -0.2168925 ,  1.2646565 ,  0.06136202,  0.29682776,  0.79985446,\n",
       "        0.05008394,  1.5930794 ,  1.9173759 , -1.1040354 , -1.0351075 ,\n",
       "       -2.4084926 , -0.6188674 , -0.39498785, -3.2571974 ,  0.15046082,\n",
       "       -0.35244718, -0.32109255, -1.281175  ,  1.0616504 , -0.09659261,\n",
       "       -0.41794613, -0.49827385, -1.6383951 , -4.2581    , -1.2295154 ,\n",
       "        0.39448747,  2.3955925 , -0.50692976,  2.7952955 , -2.6326911 ,\n",
       "        0.41330922, -1.4576412 , -1.7152877 , -1.142848  , -3.0177262 ,\n",
       "        1.9904372 ,  2.0920296 , -0.9869435 , -3.2515926 ,  1.2391524 ,\n",
       "       -1.5696052 , -0.3993802 , -1.9384094 , -0.9768517 , -1.1588888 ,\n",
       "        0.01530994,  1.9152905 , -1.599007  ,  0.8919222 ,  0.26600873,\n",
       "        0.7537357 ,  1.1062995 ,  1.5427616 , -0.31010833,  0.64463586,\n",
       "        2.4653144 , -1.8178723 , -0.52039987,  1.723796  ,  0.34844133,\n",
       "       -0.5592259 ,  0.19882058,  0.17217255, -0.45237088,  0.02504449,\n",
       "       -0.37775993, -2.5594194 , -1.2093849 ,  0.07179013, -0.261302  ],\n",
       "      dtype=float32)"
      ]
     },
     "execution_count": 25,
     "metadata": {},
     "output_type": "execute_result"
    }
   ],
   "source": [
    "# you can accesss the vectors from the model using model.wv\n",
    "# and keying in like a dictionary\n",
    "model.wv['dragon']"
   ]
  },
  {
   "cell_type": "code",
   "execution_count": 26,
   "metadata": {},
   "outputs": [
    {
     "data": {
      "text/plain": [
       "array([ 5.4102022e-02,  8.1376508e-02, -6.4536911e-03,  5.6043036e-02,\n",
       "       -3.3608686e-02, -1.2779402e-02,  3.4146223e-02, -2.2510011e-02,\n",
       "        5.6392957e-02,  6.6269614e-02, -3.2384608e-02, -7.1955882e-03,\n",
       "        8.3046801e-02,  6.3424326e-02, -3.3081699e-02, -2.5213588e-02,\n",
       "       -1.4513198e-03, -1.6811697e-02,  3.5038203e-02, -1.2482742e-02,\n",
       "       -1.5233214e-02, -7.6979394e-03, -3.6496263e-02,  1.3259547e-02,\n",
       "        6.5928169e-02,  8.7802306e-02, -1.8084424e-02, -2.2288483e-02,\n",
       "        4.3714955e-02, -7.1413685e-03,  2.4544626e-02, -1.1134137e-03,\n",
       "       -6.5724537e-02,  6.7779422e-02,  7.0318855e-02, -4.8988618e-02,\n",
       "       -6.9140173e-03,  5.3299341e-02,  5.8644928e-02, -2.1492394e-02,\n",
       "        3.8072851e-02,  1.6682357e-02,  5.7576779e-02,  2.3648404e-02,\n",
       "        5.3713605e-02,  1.4693260e-02, -6.3514844e-02, -4.2114209e-02,\n",
       "       -3.5862317e-03,  3.7722610e-05, -3.7417501e-02,  8.1191108e-02,\n",
       "        7.2194792e-02,  3.3150561e-02, -2.0825095e-02,  3.2885574e-02,\n",
       "        9.5281005e-02, -3.2806095e-02, -1.8658563e-02,  7.4323021e-02,\n",
       "        2.1612668e-02, -1.0160014e-02,  3.4071296e-02, -1.9160513e-03,\n",
       "        3.9484710e-02,  4.1524012e-02,  1.5811749e-02,  2.4519907e-02,\n",
       "       -8.9597240e-02,  1.2264811e-02,  4.0303305e-02, -7.8358293e-02,\n",
       "       -1.3892222e-02,  3.8205411e-02,  1.9848337e-03,  1.6603459e-02,\n",
       "        8.9540537e-03, -5.9997365e-02,  1.8872501e-02,  4.5490149e-02,\n",
       "       -3.0385018e-03,  6.3184522e-02,  1.7139411e-03, -7.2900780e-02,\n",
       "        5.8115564e-02,  6.9600202e-02,  2.9061792e-02,  3.3413218e-03,\n",
       "       -3.7453789e-02,  1.9426966e-02,  1.1659973e-02,  2.6040392e-02,\n",
       "        3.3123570e-03, -1.3530665e-02,  2.8193148e-03,  1.4205578e-02,\n",
       "        9.9076713e-03, -2.7296202e-02,  3.2126121e-02,  8.5863397e-02],\n",
       "      dtype=float32)"
      ]
     },
     "execution_count": 26,
     "metadata": {},
     "output_type": "execute_result"
    }
   ],
   "source": [
    "# what about words that aren't in the corpus?\n",
    "model.wv['oasnf;oaiwef;oaishdf;lkasjdfihjw']"
   ]
  },
  {
   "cell_type": "markdown",
   "metadata": {},
   "source": [
    "## What can we do with word embeddings?\n",
    "\n",
    "Similar vectors imply semantically similar concepts. Vectors that live in the same space mean very similar things. Let's use the similarity of vectors to find similar words."
   ]
  },
  {
   "cell_type": "markdown",
   "metadata": {},
   "source": [
    "What makes a vector similar to another one?"
   ]
  },
  {
   "cell_type": "markdown",
   "metadata": {},
   "source": [
    "Let me show you. Our vectors had a large dimension (100? 300?), but that's difficult to visualize. We can use an algorithm like [t-SNE](https://en.wikipedia.org/wiki/T-distributed_stochastic_neighbor_embedding) to visualize in 2 or 3 dimensions more easily. \n",
    "\n",
    "Here's an example of word embeddings that have undergone t-SNE.\n",
    "![word embeddings plotted](figures/word-embedding-clusters.png)\n",
    "\n",
    "Words with similar meanings are close together in space! We lose some information in the dimension reduction to plot in 2d space -- which may be why the months are shown in two different places, but there may be another more meaningful reason."
   ]
  },
  {
   "cell_type": "markdown",
   "metadata": {},
   "source": [
    "_Okay, but how can I tell which things are close without that loss of information from the dimension reduction? I don't need a picture, I just want numbers._"
   ]
  },
  {
   "cell_type": "markdown",
   "metadata": {},
   "source": [
    "We need to use a distance [metric](https://en.wikipedia.org/wiki/Metric_(mathematics)#:~:targetText=In%20mathematics%2C%20a%20metric%20or,of%20elements%20of%20a%20set.&targetText=A%20metric%20induces%20a%20topology,a%20metric%20is%20called%20metrizable.). The closer two vectors are, the more similar their meanings tend to be. \n",
    "\n",
    "Here's a dirty secret topologist's won't tell you: You can define distance however you want to. There's no universal distance metric that works well in all spaces, on all data sets, or on all concepts.\n",
    "\n",
    "Let's talk about two commonly used distance metrics.\n",
    "\n",
    "![vector similarity](figures/The-difference-between-Euclidean-distance-and-cosine-similarity.png)\n",
    "\n",
    "| Metric        | pro           | con   |\n",
    "| ------------- |-------------| -----|\n",
    "| euclidean     | distance ranges from \\[0, inf\\]             | takes the magnitude of the vectors into account |\n",
    "| cosine        | captures difference in direction of vectors | bounded \\[0,2\\] |\n",
    "\n",
    "In practice, cosine similarity _usually_ gives more insightful results than euclidean, likely because of the issues with vectors of significantly different magnitudes."
   ]
  },
  {
   "cell_type": "code",
   "execution_count": 27,
   "metadata": {},
   "outputs": [],
   "source": [
    "# update new terms dictionary \n",
    "# distance metric\n",
    "d['distance metric'] = \"how to measure the space between two vectors\""
   ]
  },
  {
   "cell_type": "code",
   "execution_count": 32,
   "metadata": {},
   "outputs": [
    {
     "data": {
      "text/plain": [
       "[('honest', 0.5146023035049438),\n",
       " ('supporting', 0.4897850453853607),\n",
       " ('honorable', 0.41398346424102783),\n",
       " ('miserable', 0.40822023153305054),\n",
       " ('successful', 0.40800127387046814),\n",
       " ('awful', 0.40661895275115967),\n",
       " ('innocence', 0.4051940441131592),\n",
       " ('lonely', 0.3997827470302582),\n",
       " ('lawful', 0.39864981174468994),\n",
       " ('forgiven', 0.39852288365364075)]"
      ]
     },
     "execution_count": 32,
     "metadata": {},
     "output_type": "execute_result"
    }
   ],
   "source": [
    "# gensim builds in this funcitonality for you! Checkout model.wv.most_similar()\n",
    "# they use cosine similarity, a score between 0 and 1, 1 meaning very similar\n",
    "\n",
    "# CAUTION: there's also cosine _distance_ which returns a score between 0 and 2 \n",
    "#          where 0 means most similar. Always double check your cosine function\n",
    "# we've checked for you: gensim uses cosine similarity\n",
    "\n",
    "model.wv.most_similar('iphone')"
   ]
  },
  {
   "cell_type": "code",
   "execution_count": 35,
   "metadata": {
    "scrolled": true
   },
   "outputs": [
    {
     "data": {
      "image/png": "[encoded data removed]",
      "text/plain": [
       "<Figure size 432x288 with 1 Axes>"
      ]
     },
     "metadata": {
      "needs_background": "light"
     },
     "output_type": "display_data"
    }
   ],
   "source": [
    "# we can even plot these vectors in space using t-SNE\n",
    "# we've implemented this funciton for you for the sake of time\n",
    "\n",
    "import numpy as np\n",
    "import matplotlib.pyplot as plt\n",
    "import matplotlib.cm as cm\n",
    "import os\n",
    "from gensim.models import FastText\n",
    "import pandas as pd\n",
    "from sklearn.manifold import TSNE\n",
    "\n",
    "def plot_word_vectors(word_lists, model):\n",
    "    all_words = [word for words in word_lists for word in words]\n",
    "    \n",
    "    X = [model.wv[word] for word in all_words]\n",
    "    tsne = TSNE(n_components=2)\n",
    "    X_tsne = tsne.fit_transform(X)\n",
    "    \n",
    "    df = pd.DataFrame(X_tsne, index=all_words, columns=['x', 'y'])\n",
    "    \n",
    "    dfs = [df.loc[words] for words in word_lists]\n",
    "    \n",
    "    fig = plt.figure()\n",
    "    ax = fig.add_subplot(1,1,1)\n",
    "    \n",
    "    colors = cm.rainbow(np.linspace(0,1, len(dfs)))\n",
    "    for df, color in zip(dfs, colors):\n",
    "        ax.scatter(df['x'], df['y'], color=color)\n",
    "    \n",
    "    for df in dfs:\n",
    "        for word, row in df.iterrows():\n",
    "            plt.text(row['x'], row['y'], word)\n",
    "    plt.show()\n",
    "\n",
    "words = [\n",
    "    [word for word, _ in model.wv.most_similar('winter', topn=20)],\n",
    "    [word for word, _ in model.wv.most_similar('dragon', topn=20)],\n",
    "    [word for word, _ in model.wv.most_similar('wedding', topn=20)],\n",
    "]\n",
    "plot_word_vectors(words, model)"
   ]
  },
  {
   "cell_type": "markdown",
   "metadata": {},
   "source": [
    "#### What is lost with a dimensionality reduction technique?\n",
    "\n",
    "Think about looking at this data set from different angles. \n",
    "![3d data](figures/3d-scatter-plot-rotate.gif)\n",
    "\n",
    "When you're viewing high dimensional data in lower dimensions, you don't get the best idea for what's really happening. But it can be insightful."
   ]
  },
  {
   "cell_type": "markdown",
   "metadata": {},
   "source": [
    "### Searching for more than one word at a time"
   ]
  },
  {
   "cell_type": "code",
   "execution_count": 41,
   "metadata": {},
   "outputs": [
    {
     "data": {
      "text/plain": [
       "[('bran', 0.45228421688079834),\n",
       " ('hot', 0.4430064558982849),\n",
       " ('coward', 0.4139120876789093),\n",
       " ('tunnel', 0.40595322847366333),\n",
       " ('alright', 0.4031175374984741),\n",
       " ('sick', 0.3821239471435547),\n",
       " ('brans', 0.37847551703453064),\n",
       " ('shhh', 0.3486930727958679),\n",
       " ('weep', 0.34808221459388733),\n",
       " ('load', 0.34524261951446533)]"
      ]
     },
     "execution_count": 41,
     "metadata": {},
     "output_type": "execute_result"
    }
   ],
   "source": [
    "# gensim also allows you to search for multiple concepts\n",
    "model.wv.most_similar(positive=['cow', 'hodor'])"
   ]
  },
  {
   "cell_type": "markdown",
   "metadata": {},
   "source": [
    "How does it know what to pull back for more than one word?"
   ]
  },
  {
   "cell_type": "markdown",
   "metadata": {},
   "source": [
    "It takes an average of the vectors provided in the list of positive objects. "
   ]
  },
  {
   "cell_type": "code",
   "execution_count": 38,
   "metadata": {},
   "outputs": [
    {
     "name": "stdout",
     "output_type": "stream",
     "text": [
      "v1: [-0.91064538 -3.86880606]\n",
      "v2: [2.87127439 1.47859433]\n",
      "avg_v: [ 0.98031451 -1.19510587]\n"
     ]
    },
    {
     "data": {
      "image/png": "[encoded data removed]",
      "text/plain": [
       "<Figure size 432x288 with 1 Axes>"
      ]
     },
     "metadata": {
      "needs_background": "light"
     },
     "output_type": "display_data"
    }
   ],
   "source": [
    "# let's show this in 2 dimensions\n",
    "v1 = np.random.uniform(low=-5, high=5, size=2)\n",
    "v2 = np.random.uniform(low=-5, high=5, size=2)\n",
    "print(f\"v1: {v1}\")\n",
    "print(f\"v2: {v2}\")\n",
    "\n",
    "avg_v = np.average([v1, v2], axis=0)\n",
    "print(f\"avg_v: {avg_v}\")\n",
    "\n",
    "V = [v1, v2, avg_v]\n",
    "\n",
    "# let's plot these vectors using matplotlib\n",
    "plt.quiver(v1[0], v1[1], color='r', scale=21)\n",
    "plt.quiver(v2[0], v2[0], color='b', scale=21)\n",
    "plt.quiver(avg_v[0], avg_v[1], color='g', scale=21)\n",
    "plt.show()"
   ]
  },
  {
   "cell_type": "markdown",
   "metadata": {},
   "source": [
    "Does the average vector always look like it's it in the right spot? \n",
    "\n",
    "There may be a better function to use, but gensim implemented it this way. \n",
    "\n",
    "When two vectors are close together, this functionality makes a lot of sense. Find the word most similar to the average of these two words. But when two vectors are pointing in opposite directions, the average would be the origin, something kind of far away from both of those vectors. When giving examples, make sure your examples are similar enough to get reasonable results. "
   ]
  },
  {
   "cell_type": "markdown",
   "metadata": {},
   "source": [
    "Gensim also offers the ability to include negative examples\n",
    "\n",
    "In fact, there are many papers publishing results from training word embeddings with such fantastic examples as `\"king\" - \"man\" + \"woman\" ≈ \"queen\"`. Let's see how this work on our data set. "
   ]
  },
  {
   "cell_type": "code",
   "execution_count": 42,
   "metadata": {},
   "outputs": [
    {
     "data": {
      "text/plain": [
       "[('womans', 0.5244296193122864),\n",
       " ('queen', 0.47971272468566895),\n",
       " ('woman’s', 0.4553077816963196),\n",
       " ('kingswood', 0.4486011266708374),\n",
       " ('protector', 0.426593154668808),\n",
       " ('romantic', 0.4167078137397766),\n",
       " ('kin', 0.412130743265152),\n",
       " ('warden', 0.4029715657234192),\n",
       " ('kingslayer', 0.3997613191604614),\n",
       " ('hoster', 0.39826256036758423)]"
      ]
     },
     "execution_count": 42,
     "metadata": {},
     "output_type": "execute_result"
    }
   ],
   "source": [
    "# implement the analogy by using 'king' and 'woman' in the positive params\n",
    "# and 'man' in the negative param\n",
    "model.wv.most_similar(positive=['king', 'woman'], negative=['man'])"
   ]
  },
  {
   "cell_type": "markdown",
   "metadata": {},
   "source": [
    "This result is amazing (and famous).\n",
    "\n",
    "![analogies](figures/king-queen-analogy.png)\n",
    "\n",
    "But does it always work?"
   ]
  },
  {
   "cell_type": "code",
   "execution_count": 43,
   "metadata": {},
   "outputs": [
    {
     "data": {
      "text/plain": [
       "[('aryas', 0.5943311452865601),\n",
       " ('sansas', 0.3945685625076294),\n",
       " ('m', 0.3928951621055603),\n",
       " ('sansa', 0.38353633880615234),\n",
       " ('jaw', 0.3731205463409424),\n",
       " ('t', 0.3716163635253906),\n",
       " ('bran', 0.36177492141723633),\n",
       " ('attacks', 0.3606579303741455),\n",
       " ('horseback', 0.35282498598098755),\n",
       " ('attack', 0.3484230935573578)]"
      ]
     },
     "execution_count": 43,
     "metadata": {},
     "output_type": "execute_result"
    }
   ],
   "source": [
    "# try a couple other anologies to see if they work!\n",
    "# here's one to get you started \n",
    "model.wv.most_similar(positive=['jaime', 'arya'], negative=['lannister'])"
   ]
  },
  {
   "cell_type": "code",
   "execution_count": 45,
   "metadata": {},
   "outputs": [
    {
     "data": {
      "text/plain": [
       "[('sow', 0.4693673253059387),\n",
       " ('sour', 0.46184128522872925),\n",
       " ('sounds', 0.45900145173072815),\n",
       " ('southern', 0.4528665244579315),\n",
       " ('song', 0.44896772503852844),\n",
       " ('souls', 0.44535064697265625),\n",
       " ('south', 0.44462788105010986),\n",
       " ('southerners', 0.43650391697883606),\n",
       " ('sound', 0.41304874420166016),\n",
       " ('carriage', 0.3958780765533447)]"
      ]
     },
     "execution_count": 45,
     "metadata": {},
     "output_type": "execute_result"
    }
   ],
   "source": [
    "# can you find an analogy that works?\n",
    "model.wv.most_similar(positive=['soup'], negative=['spoon'])"
   ]
  },
  {
   "cell_type": "markdown",
   "metadata": {},
   "source": [
    "Not as much luck in other analogy examples.\n",
    "\n",
    "This [paper](https://kawine.github.io/blog/nlp/2019/06/21/word-analogies.html) proves the conditions necessary for these incredible analogies to work. In short, more data likely solves this problem. \n",
    "\n",
    "![When analogies work](figures/when-analogies-work.png)\n",
    "\n",
    "\n",
    "In research, we've tried to figure out the best way to incorporate negative examples into our searches, but we just haven't found a consistently useful result. We also aren't using our word embeddings for analogies, so we don't want to get too hung up on this. "
   ]
  },
  {
   "cell_type": "code",
   "execution_count": 46,
   "metadata": {},
   "outputs": [],
   "source": [
    "# let's save our model for further use\n",
    "# create the directory 'models'\n",
    "# and save the model as 'got_ft.model'\n",
    "\n",
    "save_path = os.path.join('models', 'got_ft.model')\n",
    "if not os.path.isdir('models'):\n",
    "    os.mkdir('models')\n",
    "model.save(save_path)\n"
   ]
  },
  {
   "cell_type": "markdown",
   "metadata": {},
   "source": [
    "### Other values of word embeddings coming from automatically transcribed speech data\n",
    "\n",
    "- we capture aliases! \n",
    "- we get tons of insight from the specific context of call centers"
   ]
  },
  {
   "cell_type": "markdown",
   "metadata": {},
   "source": [
    "# Summary - What did we learn today?\n",
    "- ways of training word embeddings\n",
    "    - raw counts from the data\n",
    "        - can't handle out-of-vocab words\n",
    "        - captures contextually similar words\n",
    "    - neural methods: FastText\n",
    "        - captures character similarities as well as contextual similarities\n",
    "- how to use word embeddings\n",
    "    - find similar words\n",
    "    - search for more than one word at a time\n",
    "    - search for \"a\", and \"b\", but not like \"c\" with questionable results"
   ]
  },
  {
   "cell_type": "code",
   "execution_count": 48,
   "metadata": {},
   "outputs": [
    {
     "name": "stdout",
     "output_type": "stream",
     "text": [
      "{'distance metric': 'how to measure the space between two vectors',\n",
      " 'distributional hypothesis': 'linguistic items with '\n",
      "                              'similar                                 '\n",
      "                              'distributions have similar meanings',\n",
      " 'distributional semantics': 'linguistic theory that relies '\n",
      "                             'on                                 dist. '\n",
      "                             'hypothesis',\n",
      " 'homograph': 'words that are spelled the same but have '\n",
      "              'different                      meaning',\n",
      " 'semi-supervised learning': 'collection of ML '\n",
      "                             'algorithms                                  that '\n",
      "                             \"use data that 'labels \"\n",
      "                             \"itself'                                  or \"\n",
      "                             'unlabeled data',\n",
      " 'sparse vector': 'too many 0s',\n",
      " 'word embedding': 'a low dimensional vector that '\n",
      "                   'represents                         a word. Dimensions are '\n",
      "                   'abstract',\n",
      " 'word vector': 'high dimensional sparse vector that                     '\n",
      "                'represents a word.                     Dimensions have '\n",
      "                'real-world meaning, and                     are equal to the '\n",
      "                'vocab length.'}\n"
     ]
    }
   ],
   "source": [
    "# let's review our dictionary of new terms\n",
    "from pprint import pprint\n",
    "pprint(d)"
   ]
  },
  {
   "cell_type": "markdown",
   "metadata": {},
   "source": [
    "# Survey !!!\n",
    "\n",
    "Please complete the [course survey](https://forms.office.com/Pages/ResponsePage.aspx?id=gwv7BWBlfUGFbTjusOst_QYpnoW2nrtJmgVZLQ3gu25UMURGMDdaUTA0QUhJQTM3NlMxNE9GVVkyRC4u)"
   ]
  }
 ],
 "metadata": {
  "kernelspec": {
   "display_name": "Python 3",
   "language": "python",
   "name": "python3"
  },
  "language_info": {
   "codemirror_mode": {
    "name": "ipython",
    "version": 3
   },
   "file_extension": ".py",
   "mimetype": "text/x-python",
   "name": "python",
   "nbconvert_exporter": "python",
   "pygments_lexer": "ipython3",
   "version": "3.7.3"
  }
 },
 "nbformat": 4,
 "nbformat_minor": 2
}
